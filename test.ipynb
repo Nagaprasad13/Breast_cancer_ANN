{
 "cells": [
  {
   "cell_type": "code",
   "execution_count": 2,
   "id": "bc109164",
   "metadata": {},
   "outputs": [
    {
     "name": "stderr",
     "output_type": "stream",
     "text": [
      "WARNING:absl:Compiled the loaded model, but the compiled metrics have yet to be built. `model.compile_metrics` will be empty until you train or evaluate the model.\n"
     ]
    },
    {
     "name": "stdout",
     "output_type": "stream",
     "text": [
      "✅ Model, scaler, and label encoder loaded successfully.\n",
      "\u001b[1m1/1\u001b[0m \u001b[32m━━━━━━━━━━━━━━━━━━━━\u001b[0m\u001b[37m\u001b[0m \u001b[1m0s\u001b[0m 64ms/step\n",
      "🔮 Prediction: M\n"
     ]
    },
    {
     "name": "stderr",
     "output_type": "stream",
     "text": [
      "C:\\Users\\Nagaprasad M\\AppData\\Local\\Temp\\ipykernel_25716\\523958405.py:55: DeprecationWarning: Conversion of an array with ndim > 0 to a scalar is deprecated, and will error in future. Ensure you extract a single element from your array before performing this operation. (Deprecated NumPy 1.25.)\n",
      "  pred_label = le.inverse_transform([int(prediction[0] > 0.5)])\n"
     ]
    }
   ],
   "source": [
    "import pandas as pd\n",
    "import numpy as np\n",
    "import joblib\n",
    "import tensorflow as tf\n",
    "\n",
    "# Load Saved Artifacts\n",
    "model = tf.keras.models.load_model(\"model.h5\")\n",
    "le = joblib.load(\"label_encoder.pkl\")\n",
    "pca = joblib.load(\"pca.pkl\")\n",
    "scaler = joblib.load(\"scaler.pkl\")\n",
    "feature_names = joblib.load(\"feature_names.pkl\")\n",
    "\n",
    "print(\"✅ Model, scaler, and label encoder loaded successfully.\")\n",
    "\n",
    "# Example New Sample (Mimic the data.csv structure)\n",
    "new_sample = pd.DataFrame([{\n",
    "    'radius_mean': 14.2,\n",
    "    'texture_mean': 20.1,\n",
    "    'perimeter_mean': 92.0,\n",
    "    'area_mean': 600.0,\n",
    "    'smoothness_mean': 0.095,\n",
    "    'compactness_mean': 0.10,\n",
    "    'concavity_mean': 0.09,\n",
    "    'concave points_mean': 0.05,\n",
    "    'symmetry_mean': 0.18,\n",
    "    'fractal_dimension_mean': 0.06,\n",
    "    'radius_se': 0.5,\n",
    "    'texture_se': 1.1,\n",
    "    'perimeter_se': 3.2,\n",
    "    'area_se': 30.0,\n",
    "    'smoothness_se': 0.007,\n",
    "    'compactness_se': 0.02,\n",
    "    'concavity_se': 0.03,\n",
    "    'concave points_se': 0.01,\n",
    "    'symmetry_se': 0.02,\n",
    "    'fractal_dimension_se': 0.004,\n",
    "    'radius_worst': 15.0,\n",
    "    'texture_worst': 25.0,\n",
    "    'perimeter_worst': 100.0,\n",
    "    'area_worst': 700.0,\n",
    "    'smoothness_worst': 0.12,\n",
    "    'compactness_worst': 0.15,\n",
    "    'concavity_worst': 0.14,\n",
    "    'concave points_worst': 0.08,\n",
    "    'symmetry_worst': 0.25,\n",
    "    'fractal_dimension_worst': 0.07\n",
    "}])\n",
    "\n",
    "new_sample = new_sample[feature_names]\n",
    "scaled_sample = scaler.transform(new_sample)\n",
    "pca_sample = pca.transform(scaled_sample)\n",
    "\n",
    "# Predict\n",
    "prediction = model.predict(pca_sample)\n",
    "pred_label = le.inverse_transform([int(prediction[0] > 0.5)])\n",
    "print(f\"🔮 Prediction: {pred_label[0]}\")\n"
   ]
  },
  {
   "cell_type": "code",
   "execution_count": null,
   "id": "1f8179d2",
   "metadata": {},
   "outputs": [],
   "source": []
  }
 ],
 "metadata": {
  "kernelspec": {
   "display_name": "base",
   "language": "python",
   "name": "python3"
  },
  "language_info": {
   "codemirror_mode": {
    "name": "ipython",
    "version": 3
   },
   "file_extension": ".py",
   "mimetype": "text/x-python",
   "name": "python",
   "nbconvert_exporter": "python",
   "pygments_lexer": "ipython3",
   "version": "3.13.5"
  }
 },
 "nbformat": 4,
 "nbformat_minor": 5
}
